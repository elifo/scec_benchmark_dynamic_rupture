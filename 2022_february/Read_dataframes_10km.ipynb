{
 "cells": [
  {
   "cell_type": "markdown",
   "metadata": {},
   "source": [
    "# Read dataframe for Gmrotd50 vs periods at 10 km\n",
    "* Mean and standard deviation"
   ]
  },
  {
   "cell_type": "markdown",
   "metadata": {},
   "source": [
    "## Model 1"
   ]
  },
  {
   "cell_type": "code",
   "execution_count": 1,
   "metadata": {},
   "outputs": [],
   "source": [
    "%matplotlib inline\n",
    "\n",
    "import pandas as pd \n",
    "\n",
    "# import pickle5 as pickle\n",
    "# with open(picklename, \"rb\") as fh:\n",
    "#     df1 = pickle.load(fh)\n",
    "\n",
    "\n",
    "picklename = './outputs/DF_Model1_periods_10km'\n",
    "df1 = pd.read_pickle(picklename)\n",
    "\n",
    "picklename = './outputs/DF_Model2_periods_10km'\n",
    "df2 = pd.read_pickle(picklename)\n",
    "\n",
    "picklename = './outputs/DF_Model3_periods_10km'\n",
    "df3 = pd.read_pickle(picklename)\n",
    "\n"
   ]
  },
  {
   "cell_type": "code",
   "execution_count": 2,
   "metadata": {},
   "outputs": [
    {
     "data": {
      "text/html": [
       "<div>\n",
       "<style scoped>\n",
       "    .dataframe tbody tr th:only-of-type {\n",
       "        vertical-align: middle;\n",
       "    }\n",
       "\n",
       "    .dataframe tbody tr th {\n",
       "        vertical-align: top;\n",
       "    }\n",
       "\n",
       "    .dataframe thead th {\n",
       "        text-align: right;\n",
       "    }\n",
       "</style>\n",
       "<table border=\"1\" class=\"dataframe\">\n",
       "  <thead>\n",
       "    <tr style=\"text-align: right;\">\n",
       "      <th></th>\n",
       "      <th>period</th>\n",
       "      <th>mean</th>\n",
       "      <th>std</th>\n",
       "    </tr>\n",
       "  </thead>\n",
       "  <tbody>\n",
       "    <tr>\n",
       "      <th>0</th>\n",
       "      <td>0.30</td>\n",
       "      <td>0.355025</td>\n",
       "      <td>0.098420</td>\n",
       "    </tr>\n",
       "    <tr>\n",
       "      <th>1</th>\n",
       "      <td>0.40</td>\n",
       "      <td>0.427752</td>\n",
       "      <td>0.126974</td>\n",
       "    </tr>\n",
       "    <tr>\n",
       "      <th>2</th>\n",
       "      <td>0.50</td>\n",
       "      <td>0.410095</td>\n",
       "      <td>0.130719</td>\n",
       "    </tr>\n",
       "    <tr>\n",
       "      <th>3</th>\n",
       "      <td>0.75</td>\n",
       "      <td>0.274410</td>\n",
       "      <td>0.095976</td>\n",
       "    </tr>\n",
       "    <tr>\n",
       "      <th>4</th>\n",
       "      <td>1.00</td>\n",
       "      <td>0.195464</td>\n",
       "      <td>0.063706</td>\n",
       "    </tr>\n",
       "    <tr>\n",
       "      <th>5</th>\n",
       "      <td>2.00</td>\n",
       "      <td>0.078854</td>\n",
       "      <td>0.030347</td>\n",
       "    </tr>\n",
       "    <tr>\n",
       "      <th>6</th>\n",
       "      <td>3.00</td>\n",
       "      <td>0.040533</td>\n",
       "      <td>0.008244</td>\n",
       "    </tr>\n",
       "    <tr>\n",
       "      <th>7</th>\n",
       "      <td>4.00</td>\n",
       "      <td>0.024652</td>\n",
       "      <td>0.006894</td>\n",
       "    </tr>\n",
       "    <tr>\n",
       "      <th>8</th>\n",
       "      <td>5.00</td>\n",
       "      <td>0.019540</td>\n",
       "      <td>0.005626</td>\n",
       "    </tr>\n",
       "    <tr>\n",
       "      <th>9</th>\n",
       "      <td>7.50</td>\n",
       "      <td>0.014833</td>\n",
       "      <td>0.002186</td>\n",
       "    </tr>\n",
       "    <tr>\n",
       "      <th>10</th>\n",
       "      <td>10.00</td>\n",
       "      <td>0.010214</td>\n",
       "      <td>0.000825</td>\n",
       "    </tr>\n",
       "  </tbody>\n",
       "</table>\n",
       "</div>"
      ],
      "text/plain": [
       "    period      mean       std\n",
       "0     0.30  0.355025  0.098420\n",
       "1     0.40  0.427752  0.126974\n",
       "2     0.50  0.410095  0.130719\n",
       "3     0.75  0.274410  0.095976\n",
       "4     1.00  0.195464  0.063706\n",
       "5     2.00  0.078854  0.030347\n",
       "6     3.00  0.040533  0.008244\n",
       "7     4.00  0.024652  0.006894\n",
       "8     5.00  0.019540  0.005626\n",
       "9     7.50  0.014833  0.002186\n",
       "10   10.00  0.010214  0.000825"
      ]
     },
     "execution_count": 2,
     "metadata": {},
     "output_type": "execute_result"
    }
   ],
   "source": [
    "df1"
   ]
  },
  {
   "cell_type": "code",
   "execution_count": 8,
   "metadata": {},
   "outputs": [
    {
     "data": {
      "image/png": "[encoded data removed]",
      "text/plain": [
       "<Figure size 720x288 with 3 Axes>"
      ]
     },
     "metadata": {
      "needs_background": "light"
     },
     "output_type": "display_data"
    }
   ],
   "source": [
    "import matplotlib.pyplot as plt\n",
    "\n",
    "\n",
    "plt.figure(figsize=(10,4))\n",
    "\n",
    "df = df1\n",
    "plt.subplot(131)\n",
    "plt.errorbar(df['period'], df['mean'], yerr=df['std'], fmt='o', ms=0, alpha=0.85,\n",
    "             ecolor='k', elinewidth=1, capsize=1);\n",
    "plt.scatter(df['period'], df['mean'], c='r', ec='snow', alpha=0.9, lw=0.5, s=50)\n",
    "plt.xlabel('Period (s)')\n",
    "plt.ylabel('GMROTD50')\n",
    "plt.title('Model 1')\n",
    "\n",
    "\n",
    "df=df2\n",
    "plt.subplot(132)\n",
    "plt.errorbar(df['period'], df['mean'], yerr=df['std'], fmt='o', ms=0, alpha=0.85,\n",
    "             ecolor='k', elinewidth=1, capsize=1);\n",
    "plt.scatter(df['period'], df['mean'], c='r', ec='snow', alpha=0.9, lw=0.5, s=50)\n",
    "plt.xlabel('Period (s)')\n",
    "plt.ylabel('GMROTD50')\n",
    "plt.title('Model 2')\n",
    "\n",
    "\n",
    "df=df3\n",
    "plt.subplot(133)\n",
    "plt.errorbar(df['period'], df['mean'], yerr=df['std'], fmt='o', ms=0, alpha=0.85,\n",
    "             ecolor='k', elinewidth=1, capsize=1);\n",
    "plt.scatter(df['period'], df['mean'], c='r', ec='snow', alpha=0.9, lw=0.5, s=50)\n",
    "plt.xlabel('Period (s)')\n",
    "plt.ylabel('GMROTD50')\n",
    "plt.title('Model 3')\n",
    "\n",
    "plt.tight_layout()"
   ]
  },
  {
   "cell_type": "code",
   "execution_count": 4,
   "metadata": {},
   "outputs": [],
   "source": [
    "###"
   ]
  }
 ],
 "metadata": {
  "kernelspec": {
   "display_name": "Python 3",
   "language": "python",
   "name": "python3"
  },
  "language_info": {
   "codemirror_mode": {
    "name": "ipython",
    "version": 3
   },
   "file_extension": ".py",
   "mimetype": "text/x-python",
   "name": "python",
   "nbconvert_exporter": "python",
   "pygments_lexer": "ipython3",
   "version": "3.8.3"
  }
 },
 "nbformat": 4,
 "nbformat_minor": 4
}
